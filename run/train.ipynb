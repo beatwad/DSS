{
 "cells": [
  {
   "cell_type": "code",
   "execution_count": 1,
   "metadata": {},
   "outputs": [],
   "source": [
    "from pathlib import Path\n",
    "\n",
    "import yaml\n",
    "import torch\n",
    "from omegaconf import DictConfig\n",
    "from pytorch_lightning import Trainer, seed_everything\n",
    "from pytorch_lightning.callbacks import (\n",
    "    LearningRateMonitor,\n",
    "    ModelCheckpoint,\n",
    "    RichModelSummary,\n",
    "    RichProgressBar,\n",
    ")\n",
    "\n",
    "from src.datamodule import SleepDataModule\n",
    "# from src.modelmodule.seg import class SegValidDataset(Dataset):\n",
    "\n",
    "\n",
    "\n",
    "# def main(cfg: dict):  # type: ignore\n",
    "#     seed_everything(cfg.seed)\n",
    "\n",
    "#     # init lightning model\n",
    "#     datamodule = SegDataModule(cfg)\n",
    "#     # LOGGER.info(\"Set Up DataModule\")\n",
    "#     model = SegModel(\n",
    "#         cfg, datamodule.valid_event_df, len(cfg.features), len(cfg.labels), cfg.duration\n",
    "#     )\n",
    "\n",
    "#     # set callbacks\n",
    "#     checkpoint_cb = ModelCheckpoint(\n",
    "#         verbose=True,\n",
    "#         monitor=cfg.monitor,\n",
    "#         mode=cfg.monitor_mode,\n",
    "#         save_top_k=1,\n",
    "#         save_last=False,\n",
    "#     )\n",
    "#     lr_monitor = LearningRateMonitor(\"epoch\")\n",
    "#     progress_bar = RichProgressBar()\n",
    "#     model_summary = RichModelSummary(max_depth=2)\n",
    "\n",
    "#     trainer = Trainer(\n",
    "#         # env\n",
    "#         default_root_dir=Path.cwd(),\n",
    "#         # num_nodes=cfg.training.num_gpus,\n",
    "#         accelerator=cfg.accelerator,\n",
    "#         precision=16 if cfg.use_amp else 32,\n",
    "#         # training\n",
    "#         fast_dev_run=cfg.debug,  # run only 1 train batch and 1 val batch\n",
    "#         max_epochs=cfg.epoch,\n",
    "#         max_steps=cfg.epoch * len(datamodule.train_dataloader()),\n",
    "#         gradient_clip_val=cfg.gradient_clip_val,\n",
    "#         accumulate_grad_batches=cfg.accumulate_grad_batches,\n",
    "#         callbacks=[checkpoint_cb, lr_monitor, progress_bar, model_summary],\n",
    "#         logger=None,\n",
    "#         # resume_from_checkpoint=resume_from,\n",
    "#         num_sanity_val_steps=0,\n",
    "#         log_every_n_steps=int(len(datamodule.train_dataloader()) * 0.1),\n",
    "#         sync_batchnorm=True,\n",
    "#         check_val_every_n_epoch=cfg.check_val_every_n_epoch,\n",
    "#     )\n",
    "\n",
    "#     trainer.fit(model, datamodule=datamodule)\n",
    "\n",
    "#     # load best weights\n",
    "#     model = model.load_from_checkpoint(\n",
    "#         checkpoint_cb.best_model_path,\n",
    "#         cfg=cfg,\n",
    "#         val_event_df=datamodule.valid_event_df,\n",
    "#         feature_dim=len(cfg.features),\n",
    "#         num_classes=len(cfg.labels),\n",
    "#         duration=cfg.duration,\n",
    "#     )\n",
    "#     weights_path = str(\"model_weights.pth\")  # type: ignore\n",
    "\n",
    "#     torch.save(model.model.state_dict(), weights_path)\n",
    "\n",
    "#     return\n",
    "\n",
    "cfg = yaml.safe_load(Path('conf/train.yaml').read_text())\n",
    "cfg_dir = yaml.safe_load(Path('conf/dir/local.yaml').read_text())\n",
    "cfg_split = yaml.safe_load(Path('conf/split/fold_0.yaml').read_text())\n",
    "cfg_model = yaml.safe_load(Path('conf/model/Spec2DCNN.yaml').read_text())\n",
    "cfg_fe = yaml.safe_load(Path('conf/feature_extractor/CNNSpectrogram.yaml').read_text())\n",
    "cfg_de = yaml.safe_load(Path('conf/decoder/UNet1DDecoder.yaml').read_text())\n",
    "cfg_ds = yaml.safe_load(Path('conf/dataset/seg.yaml').read_text())\n",
    "\n",
    "cfg['dir'] = cfg_dir\n",
    "cfg['split'] = cfg_split\n",
    "cfg['model'] = cfg_model\n",
    "cfg['feature_extractor'] = cfg_fe\n",
    "cfg['decoder'] = cfg_de\n",
    "cfg['dataset'] = cfg_ds\n",
    "\n",
    "cfg = DictConfig(cfg)\n",
    "\n",
    "# main(cfg)\n",
    "\n",
    "datamodule = SleepDataModule(cfg)\n",
    "\n",
    "x = datamodule.train_dataloader()\n"
   ]
  },
  {
   "cell_type": "code",
   "execution_count": 2,
   "metadata": {},
   "outputs": [],
   "source": [
    "l = None\n",
    "\n",
    "for i in x:\n",
    "    l = i['label']\n",
    "    break"
   ]
  },
  {
   "cell_type": "code",
   "execution_count": 25,
   "metadata": {},
   "outputs": [
    {
     "name": "stdout",
     "output_type": "stream",
     "text": [
      "(array([2963]),)\n"
     ]
    }
   ],
   "source": [
    "import numpy as np\n",
    "\n",
    "y = l[0,:,0].numpy()\n",
    "\n",
    "def gaussian_kernel(length: int, sigma: int = 3) -> np.ndarray:\n",
    "    x = np.ogrid[-length : length + 1]\n",
    "    h = np.exp(-(x**2) / (2 * sigma * sigma))  # type: ignore\n",
    "    h[h < np.finfo(h.dtype).eps * h.max()] = 0\n",
    "    return h\n",
    "\n",
    "def add_gaussian_sleep(label, offset=20):\n",
    "    idxs = np.where(np.diff(label) == 1)\n",
    "    \n",
    "    for idx in idxs:\n",
    "        if len(idx) > 0:\n",
    "            idx = idx[0]\n",
    "\n",
    "            z = gaussian_kernel(offset*2, sigma=offset//2)[:offset*2]\n",
    "            \n",
    "            if idx-offset < 0:\n",
    "                z = z[offset-idx:]\n",
    "            elif idx+offset > label.shape[0]:\n",
    "                z = z[:label.shape[0]-idx-offset]\n",
    "\n",
    "            label[max(idx-offset, 0):min(idx+offset, label.shape[0])] = z\n",
    "\n",
    "    idxs = np.where(np.diff(label) == -1)\n",
    "    \n",
    "    for idx in idxs:\n",
    "        if len(idx) > 0:\n",
    "            idx = idx[0]\n",
    "\n",
    "            z = gaussian_kernel(offset*2, sigma=offset//2)[offset*2-1:]\n",
    "            \n",
    "            if idx-offset < 0:\n",
    "                z = z[offset-idx:]\n",
    "            elif idx+offset > label.shape[0]:\n",
    "                z = z[:label.shape[0]-idx-offset]\n",
    "\n",
    "            label[max(idx-offset, 0):min(idx+offset, label.shape[0])] = z\n",
    "\n",
    "    return label\n",
    "\n",
    "y = add_gaussian_sleep(y)\n"
   ]
  },
  {
   "cell_type": "code",
   "execution_count": 26,
   "metadata": {},
   "outputs": [
    {
     "data": {
      "text/plain": [
       "[<matplotlib.lines.Line2D at 0x7f7609c30b20>]"
      ]
     },
     "execution_count": 26,
     "metadata": {},
     "output_type": "execute_result"
    },
    {
     "data": {
      "image/png": "[encoded data removed]",
      "text/plain": [
       "<Figure size 640x480 with 1 Axes>"
      ]
     },
     "metadata": {},
     "output_type": "display_data"
    }
   ],
   "source": [
    "import matplotlib.pyplot as plt\n",
    "\n",
    "plt.plot(y[2900:3100])"
   ]
  }
 ],
 "metadata": {
  "kernelspec": {
   "display_name": "DSS",
   "language": "python",
   "name": "python3"
  },
  "language_info": {
   "codemirror_mode": {
    "name": "ipython",
    "version": 3
   },
   "file_extension": ".py",
   "mimetype": "text/x-python",
   "name": "python",
   "nbconvert_exporter": "python",
   "pygments_lexer": "ipython3",
   "version": "3.10.11"
  }
 },
 "nbformat": 4,
 "nbformat_minor": 2
}
